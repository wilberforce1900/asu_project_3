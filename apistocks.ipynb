{
 "cells": [
  {
   "cell_type": "code",
   "execution_count": 17,
   "id": "886cb7c3-d08d-4a96-88e3-6bf83383b707",
   "metadata": {},
   "outputs": [
    {
     "ename": "ModuleNotFoundError",
     "evalue": "No module named 'requests'",
     "output_type": "error",
     "traceback": [
      "\u001b[0;31m---------------------------------------------------------------------------\u001b[0m",
      "\u001b[0;31mModuleNotFoundError\u001b[0m                       Traceback (most recent call last)",
      "Cell \u001b[0;32mIn[17], line 5\u001b[0m\n\u001b[1;32m      1\u001b[0m \u001b[39m# load stock api\u001b[39;00m\n\u001b[1;32m      2\u001b[0m \u001b[39m# alpaca trade api\u001b[39;00m\n\u001b[1;32m      3\u001b[0m \u001b[39m# Initial imports\u001b[39;00m\n\u001b[1;32m      4\u001b[0m \u001b[39mimport\u001b[39;00m \u001b[39mos\u001b[39;00m\n\u001b[0;32m----> 5\u001b[0m \u001b[39mimport\u001b[39;00m \u001b[39mrequests\u001b[39;00m\n\u001b[1;32m      6\u001b[0m \u001b[39m##Imports\u001b[39;00m\n\u001b[1;32m      8\u001b[0m \u001b[39mimport\u001b[39;00m \u001b[39mpandas\u001b[39;00m \u001b[39mas\u001b[39;00m \u001b[39mpd\u001b[39;00m\n",
      "\u001b[0;31mModuleNotFoundError\u001b[0m: No module named 'requests'"
     ]
    }
   ],
   "source": [
    "# load stock api\n",
    "# alpaca trade api\n",
    "# Initial imports\n",
    "import os\n",
    "import requests\n",
    "##Imports\n",
    "\n",
    "import pandas as pd\n",
    "import numpy as np\n",
    "#from pathlib import Path\n",
    "import hvplot.pandas\n",
    "import matplotlib.pyplot as plt\n",
    "%matplotlib inline\n",
    "\n",
    "import yfinance as yf\n",
    "from datetime import date\n",
    "from yahoo_fin.stock_info import get_data\n",
    "import datetime\n",
    "import time\n",
    "from yahoo_fin import stock_info as si\n",
    "from MCForecastTools import MCSimulation\n",
    "import json\n",
    "import sys\n",
    "\n",
    "\n"
   ]
  },
  {
   "cell_type": "markdown",
   "id": "cc6a81db",
   "metadata": {},
   "source": []
  },
  {
   "cell_type": "code",
   "execution_count": null,
   "id": "20363cc1-1366-42e5-8f14-55dc71079b38",
   "metadata": {},
   "outputs": [],
   "source": [
    "# load goog news api\n",
    "# # https://github.com/ranahaani/GNews\n",
    "# # the reference also should consider google's own https://developers.google.com/webmaster-tools/v1/searchanalytics?hl=zh-cn\n",
    "\n",
    "\n",
    "## to be simpler, use google trends api\n",
    "## https://www.youtube.com/watch?v=WSnZrEI-sZ0\n",
    "## https://pypi.org/project/pytrends/\n",
    "\n",
    "from pytrends.request import TrendReq\n",
    "\n",
    "pytrends = TrendReq(hl='en-US', tz=360)\n"
   ]
  },
  {
   "cell_type": "code",
   "execution_count": null,
   "id": "e30ce7ce-5556-48f2-a606-fb55a4eabe2d",
   "metadata": {},
   "outputs": [
    {
     "data": {
      "text/plain": [
       "<alpaca_trade_api.rest.REST at 0x7f89c9f85690>"
      ]
     },
     "metadata": {},
     "output_type": "display_data"
    }
   ],
   "source": [
    "## load SPY and TSLA to track their stock performances and trends\n",
    "## clear data\n",
    "# load the tickers lists for three ETFs sectors\n",
    "yf.pdr_override() \n",
    "\n",
    "# Create the Alpaca API object\n",
    "SPY = yf.Ticker(\"SPY\")#info\n",
    "TSLA = yf.Ticker(\"TSLA\")"
   ]
  },
  {
   "cell_type": "code",
   "execution_count": null,
   "id": "a35efcd5-191a-48d9-a043-8e9faebb5b09",
   "metadata": {},
   "outputs": [],
   "source": [
    "#Get five years worth of historical data for ticker_list\n",
    "SPY_df = SPY.history(period = \"5y\", interval = \"1d\")\n",
    "SPY_df.index.duplicated().sum()\n",
    "SPY_df = SPY_df.loc[~SPY_df.index.duplicated(keep = \"first\")]\n",
    "SPY_df"
   ]
  },
  {
   "cell_type": "code",
   "execution_count": null,
   "id": "25ef6892-182e-4fa3-a87b-f06274514268",
   "metadata": {},
   "outputs": [
    {
     "data": {
      "text/plain": [
       "'2018-04-25T00:00:00-04:00'"
      ]
     },
     "execution_count": 28,
     "metadata": {},
     "output_type": "execute_result"
    }
   ],
   "source": [
    "## the TSLA df\n",
    "TSLA_df = TSLA.history(period = \"5y\", interval = \"1d\")\n",
    "TSLA_df.index.duplicated().sum()\n",
    "TSLA_df = TSLA_df.loc[~TSLA_df.index.duplicated(keep = \"first\")]\n",
    "TSLA_df"
   ]
  },
  {
   "cell_type": "code",
   "execution_count": null,
   "id": "bedf7f84-4cdc-4691-9f0c-857f8ab833c7",
   "metadata": {},
   "outputs": [
    {
     "data": {
      "text/plain": [
       "'2023-04-25T00:00:00-04:00'"
      ]
     },
     "execution_count": 29,
     "metadata": {},
     "output_type": "execute_result"
    }
   ],
   "source": [
    "# combined two databases\n",
    "combined_df = pd.concat([TSLA,SPY], axis = 1)\n",
    "combined_df"
   ]
  },
  {
   "cell_type": "code",
   "execution_count": null,
   "id": "f38b2b61-cf46-40d4-854e-db629d857219",
   "metadata": {},
   "outputs": [],
   "source": []
  }
 ],
 "metadata": {
  "kernelspec": {
   "display_name": "Python 3 (ipykernel)",
   "language": "python",
   "name": "python3"
  },
  "language_info": {
   "codemirror_mode": {
    "name": "ipython",
    "version": 3
   },
   "file_extension": ".py",
   "mimetype": "text/x-python",
   "name": "python",
   "nbconvert_exporter": "python",
   "pygments_lexer": "ipython3",
   "version": "3.9.6"
  }
 },
 "nbformat": 4,
 "nbformat_minor": 5
}
